{
 "cells": [
  {
   "cell_type": "code",
   "execution_count": 124,
   "metadata": {},
   "outputs": [],
   "source": [
    "import nltk\n",
    "from nltk.corpus import cmudict\n",
    "from nltk.corpus import wordnet as wn"
   ]
  },
  {
   "cell_type": "code",
   "execution_count": 125,
   "metadata": {},
   "outputs": [],
   "source": [
    "entries = nltk.corpus.cmudict.entries()\n"
   ]
  },
  {
   "cell_type": "code",
   "execution_count": 126,
   "metadata": {},
   "outputs": [
    {
     "data": {
      "text/plain": [
       "[['B', 'EH1', 'D']]"
      ]
     },
     "execution_count": 126,
     "metadata": {},
     "output_type": "execute_result"
    }
   ],
   "source": [
    "[pron for word,pron in entries if word == 'bed']"
   ]
  },
  {
   "cell_type": "code",
   "execution_count": 127,
   "metadata": {},
   "outputs": [],
   "source": [
    "def find_rhymes(syllables):\n",
    "    length = len(syllables)\n",
    "    list = [word for word,pron in entries if pron[-length:] == syllables]\n",
    "    print('There are', len(list), 'rhymes.')\n",
    "    return list"
   ]
  },
  {
   "cell_type": "code",
   "execution_count": 128,
   "metadata": {},
   "outputs": [
    {
     "name": "stdout",
     "output_type": "stream",
     "text": [
      "There are 74 rhymes.\n"
     ]
    },
    {
     "data": {
      "text/plain": [
       "['abed',\n",
       " 'ahead',\n",
       " 'bed',\n",
       " 'behead',\n",
       " 'behead',\n",
       " 'biomed',\n",
       " 'bled',\n",
       " 'bread',\n",
       " 'bred',\n",
       " 'dead',\n",
       " 'dread',\n",
       " 'dred',\n",
       " 'dredd',\n",
       " 'ed',\n",
       " 'embed',\n",
       " 'fed',\n",
       " 'fled',\n",
       " 'fread',\n",
       " 'fred',\n",
       " 'freda',\n",
       " 'ged',\n",
       " 'head',\n",
       " 'hilton-head',\n",
       " 'imbed',\n",
       " 'infrared',\n",
       " 'instead',\n",
       " 'interbred',\n",
       " 'jed',\n",
       " 'lead',\n",
       " 'led',\n",
       " 'med',\n",
       " 'misled',\n",
       " 'misread',\n",
       " 'ned',\n",
       " 'nedd',\n",
       " 'numed',\n",
       " 'overfed',\n",
       " 'overhead',\n",
       " 'pled',\n",
       " 'purebred',\n",
       " 'read',\n",
       " 'reade',\n",
       " 'red',\n",
       " 'redd',\n",
       " 'retread',\n",
       " 'said',\n",
       " 'sayed',\n",
       " 'schwed',\n",
       " 'sffed',\n",
       " 'sffed',\n",
       " 'shead',\n",
       " 'shed',\n",
       " 'shedd',\n",
       " 'shred',\n",
       " 'sled',\n",
       " 'sledd',\n",
       " 'sped',\n",
       " 'spread',\n",
       " 'stead',\n",
       " 'swed',\n",
       " 'szwed',\n",
       " 'ted',\n",
       " 'thoroughbred',\n",
       " 'thread',\n",
       " 'tread',\n",
       " 'unread',\n",
       " 'unsaid',\n",
       " 'unted',\n",
       " 'unwed',\n",
       " 'wed',\n",
       " 'wedd',\n",
       " 'wehde',\n",
       " 'widespread',\n",
       " 'zed']"
      ]
     },
     "execution_count": 128,
     "metadata": {},
     "output_type": "execute_result"
    }
   ],
   "source": [
    "find_rhymes(['EH1', 'D'] )"
   ]
  },
  {
   "cell_type": "code",
   "execution_count": 129,
   "metadata": {},
   "outputs": [
    {
     "data": {
      "text/plain": [
       "[['K', 'EY1', 'JH']]"
      ]
     },
     "execution_count": 129,
     "metadata": {},
     "output_type": "execute_result"
    }
   ],
   "source": [
    "[pron for word,pron in entries if word == 'cage']"
   ]
  },
  {
   "cell_type": "code",
   "execution_count": 130,
   "metadata": {},
   "outputs": [
    {
     "name": "stdout",
     "output_type": "stream",
     "text": [
      "There are 31 rhymes.\n"
     ]
    },
    {
     "data": {
      "text/plain": [
       "['age',\n",
       " 'assuage',\n",
       " 'backstage',\n",
       " 'bethpage',\n",
       " 'cage',\n",
       " 'disengage',\n",
       " 'drage',\n",
       " 'engage',\n",
       " 'enrage',\n",
       " 'gage',\n",
       " 'gaige',\n",
       " 'gauge',\n",
       " 'grage',\n",
       " 'hage',\n",
       " 'kage',\n",
       " 'krage',\n",
       " 'lage',\n",
       " 'offstage',\n",
       " 'onstage',\n",
       " 'osage',\n",
       " 'page',\n",
       " 'paige',\n",
       " 'rage',\n",
       " 'restage',\n",
       " 'sage',\n",
       " 'schrage',\n",
       " 'stage',\n",
       " 'under-age',\n",
       " 'upstage',\n",
       " 'wage',\n",
       " 'wrage']"
      ]
     },
     "execution_count": 130,
     "metadata": {},
     "output_type": "execute_result"
    }
   ],
   "source": [
    "find_rhymes(['EY1','JH'])"
   ]
  },
  {
   "cell_type": "markdown",
   "metadata": {},
   "source": [
    "## Can't get this script to work.\n",
    "Look at again later."
   ]
  },
  {
   "cell_type": "code",
   "execution_count": 131,
   "metadata": {},
   "outputs": [],
   "source": [
    "# def find_rhymes_word(rhyme_word,no_of_syllables):   \n",
    "#     syllables = [pron for word,pron in entries if word == rhyme_word]\n",
    "#     print(syllables)\n",
    "#     count = len(syllables)\n",
    "#     while count != no_of_syllables:\n",
    "#         syllables.pop(0)\n",
    "#         count = len(syllables)\n",
    "#     length = len(syllables)\n",
    "#     list = [word for word,pron in entries if pron[-length:] == syllables]\n",
    "#     print('There are', len(list), 'rhymes.')\n",
    "#     return list\n"
   ]
  },
  {
   "cell_type": "code",
   "execution_count": 132,
   "metadata": {},
   "outputs": [
    {
     "name": "stdout",
     "output_type": "stream",
     "text": [
      "[['HH', 'EH1', 'L']]\n"
     ]
    },
    {
     "ename": "IndexError",
     "evalue": "pop from empty list",
     "output_type": "error",
     "traceback": [
      "\u001b[1;31m---------------------------------------------------------------------------\u001b[0m",
      "\u001b[1;31mIndexError\u001b[0m                                Traceback (most recent call last)",
      "\u001b[1;32m<ipython-input-132-f5ae2a2d1008>\u001b[0m in \u001b[0;36m<module>\u001b[1;34m()\u001b[0m\n\u001b[1;32m----> 1\u001b[1;33m \u001b[0mfind_rhymes_word\u001b[0m\u001b[1;33m(\u001b[0m\u001b[1;34m'hell'\u001b[0m\u001b[1;33m,\u001b[0m\u001b[1;36m2\u001b[0m\u001b[1;33m)\u001b[0m\u001b[1;33m\u001b[0m\u001b[0m\n\u001b[0m",
      "\u001b[1;32m<ipython-input-114-b435343720d7>\u001b[0m in \u001b[0;36mfind_rhymes_word\u001b[1;34m(rhyme_word, no_of_syllables)\u001b[0m\n\u001b[0;32m      4\u001b[0m     \u001b[0mcount\u001b[0m \u001b[1;33m=\u001b[0m \u001b[0mlen\u001b[0m\u001b[1;33m(\u001b[0m\u001b[0msyllables\u001b[0m\u001b[1;33m)\u001b[0m\u001b[1;33m\u001b[0m\u001b[0m\n\u001b[0;32m      5\u001b[0m     \u001b[1;32mwhile\u001b[0m \u001b[0mcount\u001b[0m \u001b[1;33m!=\u001b[0m \u001b[0mno_of_syllables\u001b[0m\u001b[1;33m:\u001b[0m\u001b[1;33m\u001b[0m\u001b[0m\n\u001b[1;32m----> 6\u001b[1;33m         \u001b[0msyllables\u001b[0m\u001b[1;33m.\u001b[0m\u001b[0mpop\u001b[0m\u001b[1;33m(\u001b[0m\u001b[1;36m0\u001b[0m\u001b[1;33m)\u001b[0m\u001b[1;33m\u001b[0m\u001b[0m\n\u001b[0m\u001b[0;32m      7\u001b[0m         \u001b[0mcount\u001b[0m \u001b[1;33m=\u001b[0m \u001b[0mlen\u001b[0m\u001b[1;33m(\u001b[0m\u001b[0msyllables\u001b[0m\u001b[1;33m)\u001b[0m\u001b[1;33m\u001b[0m\u001b[0m\n\u001b[0;32m      8\u001b[0m     \u001b[0mlength\u001b[0m \u001b[1;33m=\u001b[0m \u001b[0mlen\u001b[0m\u001b[1;33m(\u001b[0m\u001b[0msyllables\u001b[0m\u001b[1;33m)\u001b[0m\u001b[1;33m\u001b[0m\u001b[0m\n",
      "\u001b[1;31mIndexError\u001b[0m: pop from empty list"
     ]
    }
   ],
   "source": [
    "find_rhymes_word('hell',2)"
   ]
  },
  {
   "cell_type": "markdown",
   "metadata": {},
   "source": [
    "## Back to set work"
   ]
  },
  {
   "cell_type": "code",
   "execution_count": null,
   "metadata": {},
   "outputs": [],
   "source": [
    "[pron for word,pron in entries if word == 'not']"
   ]
  },
  {
   "cell_type": "code",
   "execution_count": null,
   "metadata": {},
   "outputs": [],
   "source": [
    "syllable = ['N','AA1','T']\n",
    "[word for word,pron in entries if pron[-3:] == syllable]"
   ]
  },
  {
   "cell_type": "markdown",
   "metadata": {},
   "source": [
    "## Word net is a semantically orientated dictionary\n",
    "It can return synomns"
   ]
  },
  {
   "cell_type": "code",
   "execution_count": 134,
   "metadata": {},
   "outputs": [
    {
     "data": {
      "text/plain": [
       "[Synset('homo.n.02'),\n",
       " Synset('human.a.01'),\n",
       " Synset('human.a.02'),\n",
       " Synset('human.a.03')]"
      ]
     },
     "execution_count": 134,
     "metadata": {},
     "output_type": "execute_result"
    }
   ],
   "source": [
    "wn.synsets('human')"
   ]
  },
  {
   "cell_type": "code",
   "execution_count": 136,
   "metadata": {},
   "outputs": [
    {
     "data": {
      "text/plain": [
       "[Synset('dog.n.01'),\n",
       " Synset('frump.n.01'),\n",
       " Synset('dog.n.03'),\n",
       " Synset('cad.n.01'),\n",
       " Synset('frank.n.02'),\n",
       " Synset('pawl.n.01'),\n",
       " Synset('andiron.n.01'),\n",
       " Synset('chase.v.01')]"
      ]
     },
     "execution_count": 136,
     "metadata": {},
     "output_type": "execute_result"
    }
   ],
   "source": [
    "wn.synsets('dog')"
   ]
  },
  {
   "cell_type": "code",
   "execution_count": 142,
   "metadata": {},
   "outputs": [
    {
     "data": {
      "text/plain": [
       "['homo', 'man', 'human_being', 'human']"
      ]
     },
     "execution_count": 142,
     "metadata": {},
     "output_type": "execute_result"
    }
   ],
   "source": [
    "wn.synset('homo.n.02').lemma_names()"
   ]
  },
  {
   "cell_type": "markdown",
   "metadata": {},
   "source": [
    "## lemma is a single word unit\n",
    "Lemmarising a text is spliting it up into the core.\n",
    "Lamination"
   ]
  },
  {
   "cell_type": "code",
   "execution_count": 146,
   "metadata": {},
   "outputs": [
    {
     "data": {
      "text/plain": [
       "[Lemma('bird.n.01.bird'),\n",
       " Lemma('bird.n.02.bird'),\n",
       " Lemma('dame.n.01.bird'),\n",
       " Lemma('boo.n.01.bird'),\n",
       " Lemma('shuttlecock.n.01.bird'),\n",
       " Lemma('bird.v.01.bird')]"
      ]
     },
     "execution_count": 146,
     "metadata": {},
     "output_type": "execute_result"
    }
   ],
   "source": [
    "wn.lemmas('bird')"
   ]
  },
  {
   "cell_type": "markdown",
   "metadata": {},
   "source": [
    "# HOLONYMS ARE ABOVE, MERONYMS ARE BELOW\n",
    "in the hierarchy"
   ]
  },
  {
   "cell_type": "code",
   "execution_count": null,
   "metadata": {},
   "outputs": [],
   "source": []
  }
 ],
 "metadata": {
  "kernelspec": {
   "display_name": "Python 3",
   "language": "python",
   "name": "python3"
  },
  "language_info": {
   "codemirror_mode": {
    "name": "ipython",
    "version": 3
   },
   "file_extension": ".py",
   "mimetype": "text/x-python",
   "name": "python",
   "nbconvert_exporter": "python",
   "pygments_lexer": "ipython3",
   "version": "3.6.6"
  }
 },
 "nbformat": 4,
 "nbformat_minor": 2
}
