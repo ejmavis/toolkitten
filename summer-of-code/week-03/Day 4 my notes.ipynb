{
 "cells": [
  {
   "cell_type": "markdown",
   "metadata": {},
   "source": [
    "# Day 4 My Notes\n",
    "### For day 3 homework need to do the calculations for all genres in the Brown corpus"
   ]
  },
  {
   "cell_type": "code",
   "execution_count": 18,
   "metadata": {},
   "outputs": [
    {
     "name": "stdout",
     "output_type": "stream",
     "text": [
      "Pretty printing has been turned ON\n"
     ]
    }
   ],
   "source": [
    "%matplotlib inline\n",
    "%pprint\n",
    "from __future__ import division #Python 2 users only\n",
    "import nltk, matplotlib, re, pprint\n",
    "from nltk import word_tokenize\n",
    "from nltk.corpus import stopwords\n",
    "from nltk.corpus import brown\n",
    "from nltk.corpus import wordnet as wn\n",
    "from nltk.book import *\n",
    "from urllib import request\n",
    "from bs4 import BeautifulSoup\n"
   ]
  },
  {
   "cell_type": "code",
   "execution_count": 19,
   "metadata": {},
   "outputs": [],
   "source": [
    "# See my notes on Chapter 3 to see Gutenberg text import from the web.\n",
    "# She experiences the same difficulty that I did with the filename\n"
   ]
  },
  {
   "cell_type": "code",
   "execution_count": 30,
   "metadata": {},
   "outputs": [],
   "source": [
    "# UTF8 is the most common encoding used."
   ]
  },
  {
   "cell_type": "code",
   "execution_count": 33,
   "metadata": {},
   "outputs": [],
   "source": [
    "# Collocations have a high frequency of appearing together, so for Crime and Punishment this returns a lot of names.\n",
    "# This could be useful in a program to guess the next word."
   ]
  },
  {
   "cell_type": "code",
   "execution_count": null,
   "metadata": {},
   "outputs": [],
   "source": [
    "# A lot of time is spent on preparing and cleaning the raw data, so it is in the easiest format to be used.\n",
    "# You always have to do this.\n",
    "# It's all in the preparation\n",
    "# In AI the importance of the algorithm is over-rated and the quality of the data is under-rated.\n",
    "# Big data is not necessarily better, it could mean that you have a lot of junk."
   ]
  }
 ],
 "metadata": {
  "kernelspec": {
   "display_name": "Python 3",
   "language": "python",
   "name": "python3"
  },
  "language_info": {
   "codemirror_mode": {
    "name": "ipython",
    "version": 3
   },
   "file_extension": ".py",
   "mimetype": "text/x-python",
   "name": "python",
   "nbconvert_exporter": "python",
   "pygments_lexer": "ipython3",
   "version": "3.6.6"
  }
 },
 "nbformat": 4,
 "nbformat_minor": 2
}
